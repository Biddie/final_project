{
 "cells": [
  {
   "cell_type": "code",
   "execution_count": 1,
   "id": "3702e922",
   "metadata": {},
   "outputs": [
    {
     "data": {
      "text/html": [
       "<style>.container { width:100% !important; }</style>"
      ],
      "text/plain": [
       "<IPython.core.display.HTML object>"
      ]
     },
     "metadata": {},
     "output_type": "display_data"
    }
   ],
   "source": [
    "import pandas as pd\n",
    "import numpy as np\n",
    "import os\n",
    "import json\n",
    "import seaborn as sns\n",
    "import chart_studio.plotly as py\n",
    "import plotly.graph_objects as go\n",
    "import geopandas as gpd\n",
    "\n",
    "\n",
    "# from matplotlib import pyplot as plt\n",
    "import matplotlib.pyplot as plt\n",
    "\n",
    "import warnings\n",
    "warnings.simplefilter(action='ignore', category=RuntimeWarning)\n",
    "warnings.simplefilter(action='ignore', category=FutureWarning)\n",
    "warnings.simplefilter(action='ignore', category=UserWarning)\n",
    "warnings.simplefilter(action='ignore', category=DeprecationWarning)\n",
    "\n",
    "pd.set_option(\"display.max_columns\", None)\n",
    "pd.set_option(\"display.max_rows\", None)\n",
    "pd.options.display.max_colwidth = None\n",
    "pd.set_option(\"display.float_format\", lambda x: '%.2f' % x)\n",
    "\n",
    "from IPython.display import display, HTML\n",
    "display(HTML(\"<style>.container { width:100% !important; }</style>\"))"
   ]
  },
  {
   "cell_type": "code",
   "execution_count": 2,
   "id": "92bab163",
   "metadata": {},
   "outputs": [],
   "source": [
    "FILE_CSV = \"author_data_new.csv\"\n",
    "DATA_FOLDER = \"data\""
   ]
  },
  {
   "cell_type": "code",
   "execution_count": 3,
   "id": "13c04745",
   "metadata": {},
   "outputs": [
    {
     "data": {
      "text/plain": [
       "'/Users/biddie/Projects/Datascience/finalproject'"
      ]
     },
     "execution_count": 3,
     "metadata": {},
     "output_type": "execute_result"
    }
   ],
   "source": [
    "main_path = os.getcwd()\n",
    "main_path"
   ]
  },
  {
   "cell_type": "code",
   "execution_count": 4,
   "id": "7a8fa73c",
   "metadata": {},
   "outputs": [],
   "source": [
    "file_path = os.path.join(os.path.join(main_path, DATA_FOLDER), FILE_CSV)\n"
   ]
  },
  {
   "cell_type": "code",
   "execution_count": 5,
   "id": "0bbf5532",
   "metadata": {},
   "outputs": [
    {
     "data": {
      "text/plain": [
       "'/Users/biddie/Projects/Datascience/finalproject/data/author_data_new.csv'"
      ]
     },
     "execution_count": 5,
     "metadata": {},
     "output_type": "execute_result"
    }
   ],
   "source": [
    "file_path"
   ]
  },
  {
   "cell_type": "code",
   "execution_count": 6,
   "id": "1e020fe4",
   "metadata": {},
   "outputs": [
    {
     "name": "stdout",
     "output_type": "stream",
     "text": [
      "CPU times: user 12.7 ms, sys: 6.64 ms, total: 19.4 ms\n",
      "Wall time: 22.3 ms\n"
     ]
    }
   ],
   "source": [
    "%%time\n",
    "\n",
    "author_data_new = pd.read_csv(file_path)"
   ]
  },
  {
   "cell_type": "code",
   "execution_count": 7,
   "id": "d88edc86",
   "metadata": {},
   "outputs": [
    {
     "data": {
      "text/html": [
       "<div>\n",
       "<style scoped>\n",
       "    .dataframe tbody tr th:only-of-type {\n",
       "        vertical-align: middle;\n",
       "    }\n",
       "\n",
       "    .dataframe tbody tr th {\n",
       "        vertical-align: top;\n",
       "    }\n",
       "\n",
       "    .dataframe thead th {\n",
       "        text-align: right;\n",
       "    }\n",
       "</style>\n",
       "<table border=\"1\" class=\"dataframe\">\n",
       "  <thead>\n",
       "    <tr style=\"text-align: right;\">\n",
       "      <th></th>\n",
       "      <th>friends</th>\n",
       "      <th>verified</th>\n",
       "      <th>longitude</th>\n",
       "      <th>status_count</th>\n",
       "      <th>sentiment</th>\n",
       "      <th>latitude</th>\n",
       "      <th>country</th>\n",
       "      <th>tweet</th>\n",
       "      <th>platform</th>\n",
       "    </tr>\n",
       "  </thead>\n",
       "  <tbody>\n",
       "    <tr>\n",
       "      <th>0</th>\n",
       "      <td>632</td>\n",
       "      <td>False</td>\n",
       "      <td>-2.32</td>\n",
       "      <td>106490.00</td>\n",
       "      <td>0.00</td>\n",
       "      <td>52.12</td>\n",
       "      <td>GB</td>\n",
       "      <td>@moel_bryn https://t.co/qvz1bI2Utb</td>\n",
       "      <td>twitter</td>\n",
       "    </tr>\n",
       "    <tr>\n",
       "      <th>1</th>\n",
       "      <td>278</td>\n",
       "      <td>False</td>\n",
       "      <td>-0.34</td>\n",
       "      <td>31467.00</td>\n",
       "      <td>-1.00</td>\n",
       "      <td>51.60</td>\n",
       "      <td>GB</td>\n",
       "      <td>Who wants to rap battle with me on stream tomorrow 👀</td>\n",
       "      <td>twitter</td>\n",
       "    </tr>\n",
       "    <tr>\n",
       "      <th>2</th>\n",
       "      <td>169</td>\n",
       "      <td>False</td>\n",
       "      <td>-0.28</td>\n",
       "      <td>1185.00</td>\n",
       "      <td>-1.00</td>\n",
       "      <td>51.39</td>\n",
       "      <td>GB</td>\n",
       "      <td>i think she'd Understand but there's like Nothing she can do</td>\n",
       "      <td>twitter</td>\n",
       "    </tr>\n",
       "    <tr>\n",
       "      <th>3</th>\n",
       "      <td>195</td>\n",
       "      <td>False</td>\n",
       "      <td>0.03</td>\n",
       "      <td>2742.00</td>\n",
       "      <td>-1.00</td>\n",
       "      <td>51.39</td>\n",
       "      <td>GB</td>\n",
       "      <td>@SoccerSix #SoccerSixNashGrier pleassssssseeeeeee 🙋🏼🙋🏼🙋🏼🙋🏼🙏🏼🙏🏼🙏🏼🙏🏼🙏🏼🙏🏼🙏🏼</td>\n",
       "      <td>twitter</td>\n",
       "    </tr>\n",
       "    <tr>\n",
       "      <th>4</th>\n",
       "      <td>572</td>\n",
       "      <td>False</td>\n",
       "      <td>-0.09</td>\n",
       "      <td>18332.00</td>\n",
       "      <td>0.00</td>\n",
       "      <td>51.36</td>\n",
       "      <td>GB</td>\n",
       "      <td>@GraceLazard 💖</td>\n",
       "      <td>twitter</td>\n",
       "    </tr>\n",
       "  </tbody>\n",
       "</table>\n",
       "</div>"
      ],
      "text/plain": [
       "   friends  verified  longitude  status_count  sentiment  latitude country  \\\n",
       "0      632     False      -2.32     106490.00       0.00     52.12      GB   \n",
       "1      278     False      -0.34      31467.00      -1.00     51.60      GB   \n",
       "2      169     False      -0.28       1185.00      -1.00     51.39      GB   \n",
       "3      195     False       0.03       2742.00      -1.00     51.39      GB   \n",
       "4      572     False      -0.09      18332.00       0.00     51.36      GB   \n",
       "\n",
       "                                                                      tweet  \\\n",
       "0                                        @moel_bryn https://t.co/qvz1bI2Utb   \n",
       "1                      Who wants to rap battle with me on stream tomorrow 👀   \n",
       "2              i think she'd Understand but there's like Nothing she can do   \n",
       "3  @SoccerSix #SoccerSixNashGrier pleassssssseeeeeee 🙋🏼🙋🏼🙋🏼🙋🏼🙏🏼🙏🏼🙏🏼🙏🏼🙏🏼🙏🏼🙏🏼   \n",
       "4                                                            @GraceLazard 💖   \n",
       "\n",
       "  platform  \n",
       "0  twitter  \n",
       "1  twitter  \n",
       "2  twitter  \n",
       "3  twitter  \n",
       "4  twitter  "
      ]
     },
     "execution_count": 7,
     "metadata": {},
     "output_type": "execute_result"
    }
   ],
   "source": [
    "author_data_new.head()"
   ]
  },
  {
   "cell_type": "code",
   "execution_count": 8,
   "id": "57d6ffdd",
   "metadata": {},
   "outputs": [
    {
     "data": {
      "text/plain": [
       "(2998, 9)"
      ]
     },
     "execution_count": 8,
     "metadata": {},
     "output_type": "execute_result"
    }
   ],
   "source": [
    "author_data_new.shape"
   ]
  },
  {
   "cell_type": "markdown",
   "id": "851323f1",
   "metadata": {},
   "source": [
    "# Train test "
   ]
  },
  {
   "cell_type": "code",
   "execution_count": 9,
   "id": "e787127a",
   "metadata": {},
   "outputs": [],
   "source": [
    "from sklearn.model_selection import train_test_split\n",
    "from autogluon.tabular import TabularDataset, TabularPredictor"
   ]
  },
  {
   "cell_type": "code",
   "execution_count": 10,
   "id": "43b677e2",
   "metadata": {},
   "outputs": [],
   "source": [
    "x = author_data_new[[\"friends\", \"verified\", \"longitude\", \"status_count\", \"latitude\", \"country\", \"tweet\", \"platform\"]]"
   ]
  },
  {
   "cell_type": "code",
   "execution_count": 11,
   "id": "ab431738",
   "metadata": {},
   "outputs": [
    {
     "data": {
      "text/plain": [
       "pandas.core.frame.DataFrame"
      ]
     },
     "execution_count": 11,
     "metadata": {},
     "output_type": "execute_result"
    }
   ],
   "source": [
    "type(x)"
   ]
  },
  {
   "cell_type": "code",
   "execution_count": 12,
   "id": "702e66d2",
   "metadata": {},
   "outputs": [
    {
     "data": {
      "text/html": [
       "<div>\n",
       "<style scoped>\n",
       "    .dataframe tbody tr th:only-of-type {\n",
       "        vertical-align: middle;\n",
       "    }\n",
       "\n",
       "    .dataframe tbody tr th {\n",
       "        vertical-align: top;\n",
       "    }\n",
       "\n",
       "    .dataframe thead th {\n",
       "        text-align: right;\n",
       "    }\n",
       "</style>\n",
       "<table border=\"1\" class=\"dataframe\">\n",
       "  <thead>\n",
       "    <tr style=\"text-align: right;\">\n",
       "      <th></th>\n",
       "      <th>friends</th>\n",
       "      <th>verified</th>\n",
       "      <th>longitude</th>\n",
       "      <th>status_count</th>\n",
       "      <th>latitude</th>\n",
       "      <th>country</th>\n",
       "      <th>tweet</th>\n",
       "      <th>platform</th>\n",
       "    </tr>\n",
       "  </thead>\n",
       "  <tbody>\n",
       "    <tr>\n",
       "      <th>0</th>\n",
       "      <td>632</td>\n",
       "      <td>False</td>\n",
       "      <td>-2.32</td>\n",
       "      <td>106490.00</td>\n",
       "      <td>52.12</td>\n",
       "      <td>GB</td>\n",
       "      <td>@moel_bryn https://t.co/qvz1bI2Utb</td>\n",
       "      <td>twitter</td>\n",
       "    </tr>\n",
       "    <tr>\n",
       "      <th>1</th>\n",
       "      <td>278</td>\n",
       "      <td>False</td>\n",
       "      <td>-0.34</td>\n",
       "      <td>31467.00</td>\n",
       "      <td>51.60</td>\n",
       "      <td>GB</td>\n",
       "      <td>Who wants to rap battle with me on stream tomorrow 👀</td>\n",
       "      <td>twitter</td>\n",
       "    </tr>\n",
       "    <tr>\n",
       "      <th>2</th>\n",
       "      <td>169</td>\n",
       "      <td>False</td>\n",
       "      <td>-0.28</td>\n",
       "      <td>1185.00</td>\n",
       "      <td>51.39</td>\n",
       "      <td>GB</td>\n",
       "      <td>i think she'd Understand but there's like Nothing she can do</td>\n",
       "      <td>twitter</td>\n",
       "    </tr>\n",
       "    <tr>\n",
       "      <th>3</th>\n",
       "      <td>195</td>\n",
       "      <td>False</td>\n",
       "      <td>0.03</td>\n",
       "      <td>2742.00</td>\n",
       "      <td>51.39</td>\n",
       "      <td>GB</td>\n",
       "      <td>@SoccerSix #SoccerSixNashGrier pleassssssseeeeeee 🙋🏼🙋🏼🙋🏼🙋🏼🙏🏼🙏🏼🙏🏼🙏🏼🙏🏼🙏🏼🙏🏼</td>\n",
       "      <td>twitter</td>\n",
       "    </tr>\n",
       "    <tr>\n",
       "      <th>4</th>\n",
       "      <td>572</td>\n",
       "      <td>False</td>\n",
       "      <td>-0.09</td>\n",
       "      <td>18332.00</td>\n",
       "      <td>51.36</td>\n",
       "      <td>GB</td>\n",
       "      <td>@GraceLazard 💖</td>\n",
       "      <td>twitter</td>\n",
       "    </tr>\n",
       "  </tbody>\n",
       "</table>\n",
       "</div>"
      ],
      "text/plain": [
       "   friends  verified  longitude  status_count  latitude country  \\\n",
       "0      632     False      -2.32     106490.00     52.12      GB   \n",
       "1      278     False      -0.34      31467.00     51.60      GB   \n",
       "2      169     False      -0.28       1185.00     51.39      GB   \n",
       "3      195     False       0.03       2742.00     51.39      GB   \n",
       "4      572     False      -0.09      18332.00     51.36      GB   \n",
       "\n",
       "                                                                      tweet  \\\n",
       "0                                        @moel_bryn https://t.co/qvz1bI2Utb   \n",
       "1                      Who wants to rap battle with me on stream tomorrow 👀   \n",
       "2              i think she'd Understand but there's like Nothing she can do   \n",
       "3  @SoccerSix #SoccerSixNashGrier pleassssssseeeeeee 🙋🏼🙋🏼🙋🏼🙋🏼🙏🏼🙏🏼🙏🏼🙏🏼🙏🏼🙏🏼🙏🏼   \n",
       "4                                                            @GraceLazard 💖   \n",
       "\n",
       "  platform  \n",
       "0  twitter  \n",
       "1  twitter  \n",
       "2  twitter  \n",
       "3  twitter  \n",
       "4  twitter  "
      ]
     },
     "execution_count": 12,
     "metadata": {},
     "output_type": "execute_result"
    }
   ],
   "source": [
    "x.head()"
   ]
  },
  {
   "cell_type": "code",
   "execution_count": 13,
   "id": "77613ccb",
   "metadata": {},
   "outputs": [],
   "source": [
    "y = author_data_new[\"sentiment\"]"
   ]
  },
  {
   "cell_type": "code",
   "execution_count": 14,
   "id": "ab74bfdc",
   "metadata": {},
   "outputs": [
    {
     "data": {
      "text/plain": [
       "pandas.core.series.Series"
      ]
     },
     "execution_count": 14,
     "metadata": {},
     "output_type": "execute_result"
    }
   ],
   "source": [
    "type(y)"
   ]
  },
  {
   "cell_type": "code",
   "execution_count": 15,
   "id": "18629483",
   "metadata": {},
   "outputs": [
    {
     "data": {
      "text/plain": [
       "0    0.00\n",
       "1   -1.00\n",
       "2   -1.00\n",
       "3   -1.00\n",
       "4    0.00\n",
       "Name: sentiment, dtype: float64"
      ]
     },
     "execution_count": 15,
     "metadata": {},
     "output_type": "execute_result"
    }
   ],
   "source": [
    "y[0:5]"
   ]
  },
  {
   "cell_type": "code",
   "execution_count": 16,
   "id": "fbe4e451",
   "metadata": {},
   "outputs": [],
   "source": [
    "x_train, x_test, y_train, y_test = train_test_split(x, y, test_size=0.33, random_state=42)"
   ]
  },
  {
   "cell_type": "code",
   "execution_count": 17,
   "id": "27dbeab7",
   "metadata": {},
   "outputs": [
    {
     "data": {
      "text/plain": [
       "((2008, 8), (990, 8))"
      ]
     },
     "execution_count": 17,
     "metadata": {},
     "output_type": "execute_result"
    }
   ],
   "source": [
    "x_train.shape, x_test.shape"
   ]
  },
  {
   "cell_type": "markdown",
   "id": "76d6ec91",
   "metadata": {},
   "source": [
    "# Train Model"
   ]
  },
  {
   "cell_type": "code",
   "execution_count": 18,
   "id": "f574ff16",
   "metadata": {},
   "outputs": [],
   "source": [
    "train_data, test_data = train_test_split(author_data_new, test_size=0.33, random_state=42)"
   ]
  },
  {
   "cell_type": "code",
   "execution_count": 19,
   "id": "0e9e08b0",
   "metadata": {},
   "outputs": [
    {
     "data": {
      "text/plain": [
       "((2008, 9), (990, 9))"
      ]
     },
     "execution_count": 19,
     "metadata": {},
     "output_type": "execute_result"
    }
   ],
   "source": [
    "train_data.shape, test_data.shape"
   ]
  },
  {
   "cell_type": "code",
   "execution_count": 20,
   "id": "0efd3955",
   "metadata": {},
   "outputs": [
    {
     "data": {
      "text/html": [
       "<div>\n",
       "<style scoped>\n",
       "    .dataframe tbody tr th:only-of-type {\n",
       "        vertical-align: middle;\n",
       "    }\n",
       "\n",
       "    .dataframe tbody tr th {\n",
       "        vertical-align: top;\n",
       "    }\n",
       "\n",
       "    .dataframe thead th {\n",
       "        text-align: right;\n",
       "    }\n",
       "</style>\n",
       "<table border=\"1\" class=\"dataframe\">\n",
       "  <thead>\n",
       "    <tr style=\"text-align: right;\">\n",
       "      <th></th>\n",
       "      <th>friends</th>\n",
       "      <th>verified</th>\n",
       "      <th>longitude</th>\n",
       "      <th>status_count</th>\n",
       "      <th>sentiment</th>\n",
       "      <th>latitude</th>\n",
       "      <th>country</th>\n",
       "      <th>tweet</th>\n",
       "      <th>platform</th>\n",
       "    </tr>\n",
       "  </thead>\n",
       "  <tbody>\n",
       "    <tr>\n",
       "      <th>406</th>\n",
       "      <td>413</td>\n",
       "      <td>True</td>\n",
       "      <td>-4.24</td>\n",
       "      <td>11819.00</td>\n",
       "      <td>1.00</td>\n",
       "      <td>55.86</td>\n",
       "      <td>GB</td>\n",
       "      <td>@CJMcFadden Can't beat a hiking trip with a banana guard.</td>\n",
       "      <td>twitter</td>\n",
       "    </tr>\n",
       "    <tr>\n",
       "      <th>2728</th>\n",
       "      <td>1269</td>\n",
       "      <td>False</td>\n",
       "      <td>-3.93</td>\n",
       "      <td>1764.00</td>\n",
       "      <td>-1.00</td>\n",
       "      <td>51.02</td>\n",
       "      <td>GB</td>\n",
       "      <td>@LoveIsland talk about having issues.dan has issues. You only just met!!!! Olivia miss great Britain =bunny boiler #love island #issueisland</td>\n",
       "      <td>twitter</td>\n",
       "    </tr>\n",
       "    <tr>\n",
       "      <th>2091</th>\n",
       "      <td>606</td>\n",
       "      <td>False</td>\n",
       "      <td>-3.51</td>\n",
       "      <td>5211.00</td>\n",
       "      <td>-1.00</td>\n",
       "      <td>55.87</td>\n",
       "      <td>GB</td>\n",
       "      <td>@Lewis27Russell nah ur alright</td>\n",
       "      <td>twitter</td>\n",
       "    </tr>\n",
       "    <tr>\n",
       "      <th>1505</th>\n",
       "      <td>1300</td>\n",
       "      <td>False</td>\n",
       "      <td>-2.01</td>\n",
       "      <td>28031.00</td>\n",
       "      <td>0.00</td>\n",
       "      <td>57.52</td>\n",
       "      <td>GB</td>\n",
       "      <td>@BolsoverBeast https://t.co/vo4CrD9eC1</td>\n",
       "      <td>twitter</td>\n",
       "    </tr>\n",
       "    <tr>\n",
       "      <th>2792</th>\n",
       "      <td>1966</td>\n",
       "      <td>False</td>\n",
       "      <td>-1.03</td>\n",
       "      <td>6038.00</td>\n",
       "      <td>0.00</td>\n",
       "      <td>50.88</td>\n",
       "      <td>GB</td>\n",
       "      <td>🙊🙈</td>\n",
       "      <td>twitter</td>\n",
       "    </tr>\n",
       "  </tbody>\n",
       "</table>\n",
       "</div>"
      ],
      "text/plain": [
       "      friends  verified  longitude  status_count  sentiment  latitude country  \\\n",
       "406       413      True      -4.24      11819.00       1.00     55.86      GB   \n",
       "2728     1269     False      -3.93       1764.00      -1.00     51.02      GB   \n",
       "2091      606     False      -3.51       5211.00      -1.00     55.87      GB   \n",
       "1505     1300     False      -2.01      28031.00       0.00     57.52      GB   \n",
       "2792     1966     False      -1.03       6038.00       0.00     50.88      GB   \n",
       "\n",
       "                                                                                                                                             tweet  \\\n",
       "406                                                                                      @CJMcFadden Can't beat a hiking trip with a banana guard.   \n",
       "2728  @LoveIsland talk about having issues.dan has issues. You only just met!!!! Olivia miss great Britain =bunny boiler #love island #issueisland   \n",
       "2091                                                                                                                @Lewis27Russell nah ur alright   \n",
       "1505                                                                                                        @BolsoverBeast https://t.co/vo4CrD9eC1   \n",
       "2792                                                                                                                                            🙊🙈   \n",
       "\n",
       "     platform  \n",
       "406   twitter  \n",
       "2728  twitter  \n",
       "2091  twitter  \n",
       "1505  twitter  \n",
       "2792  twitter  "
      ]
     },
     "execution_count": 20,
     "metadata": {},
     "output_type": "execute_result"
    }
   ],
   "source": [
    "train_data.head()"
   ]
  },
  {
   "cell_type": "code",
   "execution_count": 21,
   "id": "d48d6965",
   "metadata": {},
   "outputs": [
    {
     "data": {
      "text/html": [
       "<div>\n",
       "<style scoped>\n",
       "    .dataframe tbody tr th:only-of-type {\n",
       "        vertical-align: middle;\n",
       "    }\n",
       "\n",
       "    .dataframe tbody tr th {\n",
       "        vertical-align: top;\n",
       "    }\n",
       "\n",
       "    .dataframe thead th {\n",
       "        text-align: right;\n",
       "    }\n",
       "</style>\n",
       "<table border=\"1\" class=\"dataframe\">\n",
       "  <thead>\n",
       "    <tr style=\"text-align: right;\">\n",
       "      <th></th>\n",
       "      <th>friends</th>\n",
       "      <th>verified</th>\n",
       "      <th>longitude</th>\n",
       "      <th>status_count</th>\n",
       "      <th>sentiment</th>\n",
       "      <th>latitude</th>\n",
       "      <th>country</th>\n",
       "      <th>tweet</th>\n",
       "      <th>platform</th>\n",
       "    </tr>\n",
       "  </thead>\n",
       "  <tbody>\n",
       "    <tr>\n",
       "      <th>1376</th>\n",
       "      <td>519</td>\n",
       "      <td>False</td>\n",
       "      <td>-1.53</td>\n",
       "      <td>27980.00</td>\n",
       "      <td>-1.00</td>\n",
       "      <td>54.90</td>\n",
       "      <td>GB</td>\n",
       "      <td>She is literally goals 😍😍😍😍😍😍😍 https://t.co/vxuxMqBvKm</td>\n",
       "      <td>twitter</td>\n",
       "    </tr>\n",
       "    <tr>\n",
       "      <th>932</th>\n",
       "      <td>166</td>\n",
       "      <td>False</td>\n",
       "      <td>-2.16</td>\n",
       "      <td>2765.00</td>\n",
       "      <td>0.00</td>\n",
       "      <td>52.26</td>\n",
       "      <td>GB</td>\n",
       "      <td>Casually sliding around Alice's floor as a preferred mode of transport</td>\n",
       "      <td>twitter</td>\n",
       "    </tr>\n",
       "    <tr>\n",
       "      <th>144</th>\n",
       "      <td>2454</td>\n",
       "      <td>False</td>\n",
       "      <td>-0.06</td>\n",
       "      <td>12452.00</td>\n",
       "      <td>0.00</td>\n",
       "      <td>51.55</td>\n",
       "      <td>GB</td>\n",
       "      <td>My #TeenChoice #ChoiceMaleArtist is @zaynmalik 😍🎤❤️👑 https://t.co/xItWgY9zs6</td>\n",
       "      <td>twitter</td>\n",
       "    </tr>\n",
       "    <tr>\n",
       "      <th>1752</th>\n",
       "      <td>2833</td>\n",
       "      <td>False</td>\n",
       "      <td>-0.25</td>\n",
       "      <td>82132.00</td>\n",
       "      <td>-1.00</td>\n",
       "      <td>51.40</td>\n",
       "      <td>GB</td>\n",
       "      <td>@JamesDeen You might have to answer a few questions as people are accusing you of Amber Rayne's death.</td>\n",
       "      <td>twitter</td>\n",
       "    </tr>\n",
       "    <tr>\n",
       "      <th>51</th>\n",
       "      <td>1877</td>\n",
       "      <td>False</td>\n",
       "      <td>-4.89</td>\n",
       "      <td>7161.00</td>\n",
       "      <td>-1.00</td>\n",
       "      <td>55.89</td>\n",
       "      <td>GB</td>\n",
       "      <td>this!! https://t.co/BpyTfTrU3b</td>\n",
       "      <td>twitter</td>\n",
       "    </tr>\n",
       "  </tbody>\n",
       "</table>\n",
       "</div>"
      ],
      "text/plain": [
       "      friends  verified  longitude  status_count  sentiment  latitude country  \\\n",
       "1376      519     False      -1.53      27980.00      -1.00     54.90      GB   \n",
       "932       166     False      -2.16       2765.00       0.00     52.26      GB   \n",
       "144      2454     False      -0.06      12452.00       0.00     51.55      GB   \n",
       "1752     2833     False      -0.25      82132.00      -1.00     51.40      GB   \n",
       "51       1877     False      -4.89       7161.00      -1.00     55.89      GB   \n",
       "\n",
       "                                                                                                       tweet  \\\n",
       "1376                                                  She is literally goals 😍😍😍😍😍😍😍 https://t.co/vxuxMqBvKm   \n",
       "932                                   Casually sliding around Alice's floor as a preferred mode of transport   \n",
       "144                             My #TeenChoice #ChoiceMaleArtist is @zaynmalik 😍🎤❤️👑 https://t.co/xItWgY9zs6   \n",
       "1752  @JamesDeen You might have to answer a few questions as people are accusing you of Amber Rayne's death.   \n",
       "51                                                                            this!! https://t.co/BpyTfTrU3b   \n",
       "\n",
       "     platform  \n",
       "1376  twitter  \n",
       "932   twitter  \n",
       "144   twitter  \n",
       "1752  twitter  \n",
       "51    twitter  "
      ]
     },
     "execution_count": 21,
     "metadata": {},
     "output_type": "execute_result"
    }
   ],
   "source": [
    "test_data.head()"
   ]
  },
  {
   "cell_type": "code",
   "execution_count": 22,
   "id": "fce32cb8",
   "metadata": {},
   "outputs": [
    {
     "name": "stdout",
     "output_type": "stream",
     "text": [
      "Summary of class variables: \n",
      " count   2008.00\n",
      "mean      -0.24\n",
      "std        0.78\n",
      "min       -1.00\n",
      "25%       -1.00\n",
      "50%        0.00\n",
      "75%        0.00\n",
      "max        1.00\n",
      "Name: sentiment, dtype: float64\n"
     ]
    }
   ],
   "source": [
    "label = 'sentiment'\n",
    "print(\"Summary of class variables: \\n\", train_data[label].describe())"
   ]
  },
  {
   "cell_type": "code",
   "execution_count": null,
   "id": "7850b8f4",
   "metadata": {},
   "outputs": [
    {
     "name": "stderr",
     "output_type": "stream",
     "text": [
      "Beginning AutoGluon training ...\n",
      "AutoGluon will save models to \"artefacts/model_sentiment/\"\n",
      "AutoGluon Version:  0.7.0\n",
      "Python Version:     3.8.16\n",
      "Operating System:   Darwin\n",
      "Platform Machine:   x86_64\n",
      "Platform Version:   Darwin Kernel Version 22.4.0: Mon Mar  6 20:59:28 PST 2023; root:xnu-8796.101.5~3/RELEASE_ARM64_T6000\n",
      "Train Data Rows:    2008\n",
      "Train Data Columns: 8\n",
      "Label Column: sentiment\n",
      "Preprocessing data ...\n",
      "AutoGluon infers your prediction problem is: 'multiclass' (because dtype of label-column == float, but few unique label-values observed and label-values can be converted to int).\n",
      "\t3 unique label values:  [1.0, -1.0, 0.0]\n",
      "\tIf 'multiclass' is not the correct problem_type, please manually specify the problem_type parameter during predictor init (You may specify problem_type as one of: ['binary', 'multiclass', 'regression'])\n",
      "Train Data Class Count: 3\n",
      "Using Feature Generators to preprocess the data ...\n",
      "Fitting AutoMLPipelineFeatureGenerator...\n",
      "\tAvailable Memory:                    908.92 MB\n",
      "\tTrain Data (Original)  Memory Usage: 0.67 MB (0.1% of available memory)\n",
      "\tInferring data type of each feature based on column values. Set feature_metadata_in to manually specify special dtypes of the features.\n",
      "\tStage 1 Generators:\n",
      "\t\tFitting AsTypeFeatureGenerator...\n",
      "\t\t\tNote: Converting 1 features to boolean dtype as they only contain 2 unique values.\n",
      "\tStage 2 Generators:\n",
      "\t\tFitting FillNaFeatureGenerator...\n",
      "\tStage 3 Generators:\n",
      "\t\tFitting IdentityFeatureGenerator...\n",
      "\t\tFitting CategoryFeatureGenerator...\n",
      "\t\t\tFitting CategoryMemoryMinimizeFeatureGenerator...\n",
      "\t\tFitting TextSpecialFeatureGenerator...\n",
      "\t\t\tFitting BinnedFeatureGenerator...\n",
      "\t\t\tFitting DropDuplicatesFeatureGenerator...\n",
      "\t\tFitting TextNgramFeatureGenerator...\n",
      "\t\t\tFitting CountVectorizer for text features: ['tweet']\n",
      "\t\t\tCountVectorizer fit with vocabulary size = 84\n",
      "\t\tWarning: Due to memory constraints, ngram feature count is being reduced. Allocate more memory to maximize model quality.\n",
      "\t\tReducing Vectorizer vocab size from 84 to 60 to avoid OOM error\n",
      "\tStage 4 Generators:\n",
      "\t\tFitting DropUniqueFeatureGenerator...\n",
      "\tUseless Original Features (Count: 1): ['platform']\n",
      "\t\tThese features carry no predictive signal and should be manually investigated.\n",
      "\t\tThis is typically a feature which has the same value for all rows.\n",
      "\t\tThese features do not need to be present at inference time.\n",
      "\tTypes of features in original data (raw dtype, special dtypes):\n",
      "\t\t('bool', [])         : 1 | ['verified']\n",
      "\t\t('float', [])        : 3 | ['longitude', 'status_count', 'latitude']\n",
      "\t\t('int', [])          : 1 | ['friends']\n",
      "\t\t('object', [])       : 1 | ['country']\n",
      "\t\t('object', ['text']) : 1 | ['tweet']\n",
      "\tTypes of features in processed data (raw dtype, special dtypes):\n",
      "\t\t('category', [])                    :  1 | ['country']\n",
      "\t\t('float', [])                       :  3 | ['longitude', 'status_count', 'latitude']\n",
      "\t\t('int', [])                         :  1 | ['friends']\n",
      "\t\t('int', ['binned', 'text_special']) : 26 | ['tweet.char_count', 'tweet.word_count', 'tweet.capital_ratio', 'tweet.lower_ratio', 'tweet.digit_ratio', ...]\n",
      "\t\t('int', ['bool'])                   :  1 | ['verified']\n",
      "\t\t('int', ['text_ngram'])             : 61 | ['__nlp__.about', '__nlp__.all', '__nlp__.and', '__nlp__.are', '__nlp__.as', ...]\n",
      "\t0.4s = Fit runtime\n",
      "\t7 features in original data used to generate 93 features in processed data.\n",
      "\tTrain Data (Processed) Memory Usage: 0.37 MB (0.0% of available memory)\n",
      "Data preprocessing and feature engineering runtime = 0.4s ...\n",
      "AutoGluon will gauge predictive performance using evaluation metric: 'accuracy'\n",
      "\tTo change this, specify the eval_metric parameter of Predictor()\n",
      "Automatically generating train/validation split with holdout_frac=0.2, Train Rows: 1606, Val Rows: 402\n",
      "Fitting 13 L1 models ...\n",
      "Fitting model: KNeighborsUnif ...\n"
     ]
    }
   ],
   "source": [
    "%%time\n",
    "save_path = 'artefacts/model_sentiment'\n",
    "time_limit = 60\n",
    "\n",
    "predictor = TabularPredictor(label=label, path=save_path).fit(train_data)"
   ]
  },
  {
   "cell_type": "code",
   "execution_count": null,
   "id": "5a3fa5ec",
   "metadata": {},
   "outputs": [],
   "source": []
  }
 ],
 "metadata": {
  "kernelspec": {
   "display_name": "Python 3 (ipykernel)",
   "language": "python",
   "name": "python3"
  },
  "language_info": {
   "codemirror_mode": {
    "name": "ipython",
    "version": 3
   },
   "file_extension": ".py",
   "mimetype": "text/x-python",
   "name": "python",
   "nbconvert_exporter": "python",
   "pygments_lexer": "ipython3",
   "version": "3.8.16"
  }
 },
 "nbformat": 4,
 "nbformat_minor": 5
}
