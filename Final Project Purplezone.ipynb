{
 "cells": [
  {
   "cell_type": "code",
   "execution_count": 1,
   "id": "c5a163c2",
   "metadata": {},
   "outputs": [],
   "source": [
    "import pandas as pd\n",
    "import numpy as np\n",
    "import os\n",
    "import json\n",
    "import seaborn as sns\n",
    "import chart_studio.plotly as py\n",
    "import plotly.graph_objects as go\n",
    "import geopandas as gpd\n",
    "\n",
    "\n",
    "# from matplotlib import pyplot as plt\n",
    "import matplotlib.pyplot as plt\n",
    "\n",
    "import warnings\n",
    "warnings.simplefilter(action='ignore', category=RuntimeWarning)\n",
    "warnings.simplefilter(action='ignore', category=FutureWarning)\n",
    "warnings.simplefilter(action='ignore', category=UserWarning)\n",
    "warnings.simplefilter(action='ignore', category=DeprecationWarning)\n",
    "\n",
    "pd.set_option(\"display.max_columns\", None)\n",
    "pd.set_option(\"display.max_rows\", None)\n",
    "pd.options.display.max_colwidth = None\n",
    "pd.set_option(\"display.float_format\", lambda x: '%.2f' % x)\n",
    "\n",
    "from IPython.display import display, HTML\n",
    "display(HTML(\"<style>.container { width:100% !important; }</style>\"))"
   ]
  },
  {
   "cell_type": "code",
   "execution_count": 2,
   "id": "484604d4",
   "metadata": {},
   "outputs": [],
   "source": [
    "FILE_CSV = \"csv_file.csv\"\n",
    "FILE_TXT = \"txt_file.txt\"\n",
    "JSON_FILE = \"json_file.json\"\n",
    "DATA_FOLDER = \"data\""
   ]
  },
  {
   "cell_type": "code",
   "execution_count": 3,
   "id": "8ed3b419",
   "metadata": {},
   "outputs": [],
   "source": [
    "main_path = os.getcwd()\n",
    "main_path"
   ]
  },
  {
   "cell_type": "code",
   "execution_count": 4,
   "id": "dc563e7a",
   "metadata": {},
   "outputs": [],
   "source": [
    "file_csvpath = os.path.join(os.path.join(main_path, DATA_FOLDER), FILE_CSV)\n",
    "file_txtpath = os.path.join(os.path.join(main_path, DATA_FOLDER), FILE_TXT)\n",
    "file_jsonpath = os.path.join(os.path.join(main_path, DATA_FOLDER), JSON_FILE)"
   ]
  },
  {
   "cell_type": "code",
   "execution_count": 5,
   "id": "7cc1366a",
   "metadata": {},
   "outputs": [],
   "source": [
    "%%time\n",
    "\n",
    "csv_file = pd.read_csv(file_csvpath)\n",
    "txt_file = pd.read_csv(file_txtpath)\n"
   ]
  },
  {
   "cell_type": "code",
   "execution_count": 6,
   "id": "c449172d",
   "metadata": {},
   "outputs": [],
   "source": [
    "with open(file_jsonpath) as f:\n",
    "    json_file = json.load(f)"
   ]
  },
  {
   "cell_type": "code",
   "execution_count": 7,
   "id": "90cbf8e5",
   "metadata": {},
   "outputs": [],
   "source": [
    "def load_json(file_path):\n",
    "    \"\"\" Loads json file \"\"\"\n",
    "    try:\n",
    "        with open(file_path) as f:\n",
    "            json_file = json.load(f)\n",
    "            return json_file\n",
    "    except Exception as e:\n",
    "        print(str(e))"
   ]
  },
  {
   "cell_type": "code",
   "execution_count": 8,
   "id": "f4ea55ce",
   "metadata": {},
   "outputs": [],
   "source": [
    "json_file"
   ]
  },
  {
   "cell_type": "code",
   "execution_count": 9,
   "id": "618c08b2",
   "metadata": {},
   "outputs": [],
   "source": [
    "type(json_file)"
   ]
  },
  {
   "cell_type": "code",
   "execution_count": 10,
   "id": "830e87f0",
   "metadata": {},
   "outputs": [],
   "source": [
    "some_data = pd.DataFrame(json_file)"
   ]
  },
  {
   "cell_type": "code",
   "execution_count": 11,
   "id": "f9e1fd58",
   "metadata": {},
   "outputs": [],
   "source": [
    "for i in json_file[0:5]:\n",
    "    print(i[\"author\"])"
   ]
  },
  {
   "cell_type": "code",
   "execution_count": 12,
   "id": "8b2a9b3b",
   "metadata": {},
   "outputs": [],
   "source": [
    "some_data.head()"
   ]
  },
  {
   "cell_type": "code",
   "execution_count": 13,
   "id": "12cd2c5d",
   "metadata": {},
   "outputs": [],
   "source": [
    "# Use json lambda to open the dictionary\n",
    "def get_author_details(text):\n",
    "    \n",
    "    friends = text[\"properties\"][\"friends\"]\n",
    "    verified = text[\"properties\"][\"verified\"]\n",
    "    status_count = text[\"properties\"][\"status_count\"]\n",
    "    \n",
    "    # friends = f\"{friends}\"\n",
    "    # verified = f\"{verified}\" \n",
    "    # status_count = f\"{status_count}\"\n",
    "    \n",
    "    return friends, status_count, verified"
   ]
  },
  {
   "cell_type": "code",
   "execution_count": 14,
   "id": "b5195899",
   "metadata": {},
   "outputs": [],
   "source": [
    "some_data[\"result\"] = some_data[\"author\"].apply(lambda x:get_author_details(x))"
   ]
  },
  {
   "cell_type": "code",
   "execution_count": 15,
   "id": "80622ab3",
   "metadata": {},
   "outputs": [],
   "source": [
    "some_data.head()"
   ]
  },
  {
   "cell_type": "code",
   "execution_count": 16,
   "id": "5d6f6da7",
   "metadata": {},
   "outputs": [],
   "source": [
    "jsondata = pd.json_normalize(json_file)"
   ]
  },
  {
   "cell_type": "code",
   "execution_count": 17,
   "id": "c4d5a705",
   "metadata": {},
   "outputs": [],
   "source": [
    "jsondata.head()"
   ]
  },
  {
   "cell_type": "code",
   "execution_count": 18,
   "id": "a8aee744",
   "metadata": {},
   "outputs": [],
   "source": [
    "jsondata.info()"
   ]
  },
  {
   "cell_type": "code",
   "execution_count": 19,
   "id": "c1a255b3",
   "metadata": {},
   "outputs": [],
   "source": [
    "txt_file"
   ]
  },
  {
   "cell_type": "code",
   "execution_count": 20,
   "id": "cd5d1b1e",
   "metadata": {},
   "outputs": [],
   "source": [
    "csv_file"
   ]
  },
  {
   "cell_type": "code",
   "execution_count": 21,
   "id": "d55fb584",
   "metadata": {},
   "outputs": [],
   "source": [
    "json_txt_data = pd.concat([txt_file, jsondata], ignore_index=True)"
   ]
  },
  {
   "cell_type": "code",
   "execution_count": 22,
   "id": "5b3e40fd",
   "metadata": {},
   "outputs": [],
   "source": [
    "json_txt_data.head()"
   ]
  },
  {
   "cell_type": "code",
   "execution_count": 23,
   "id": "dd1f97e6",
   "metadata": {},
   "outputs": [],
   "source": [
    "jsondata.shape"
   ]
  },
  {
   "cell_type": "code",
   "execution_count": 24,
   "id": "40635cdb",
   "metadata": {},
   "outputs": [],
   "source": [
    "txt_file.shape"
   ]
  },
  {
   "cell_type": "code",
   "execution_count": 25,
   "id": "899e70c7",
   "metadata": {},
   "outputs": [],
   "source": [
    "json_txt_data.shape"
   ]
  },
  {
   "cell_type": "code",
   "execution_count": 26,
   "id": "276078ef",
   "metadata": {},
   "outputs": [],
   "source": [
    "json_txt_data.info()"
   ]
  },
  {
   "cell_type": "code",
   "execution_count": 27,
   "id": "d7c8839f",
   "metadata": {},
   "outputs": [],
   "source": [
    "json_txt_csv_data = pd.concat([json_txt_data, csv_file], ignore_index=True)"
   ]
  },
  {
   "cell_type": "code",
   "execution_count": 28,
   "id": "2dd9f86e",
   "metadata": {},
   "outputs": [],
   "source": [
    "json_txt_csv_data.head()"
   ]
  },
  {
   "cell_type": "code",
   "execution_count": 29,
   "id": "427ac146",
   "metadata": {},
   "outputs": [],
   "source": [
    "json_txt_csv_data.shape"
   ]
  },
  {
   "cell_type": "code",
   "execution_count": 30,
   "id": "e96f9cee",
   "metadata": {},
   "outputs": [],
   "source": [
    "author_data = json_txt_csv_data"
   ]
  },
  {
   "cell_type": "code",
   "execution_count": 31,
   "id": "7e419894",
   "metadata": {},
   "outputs": [],
   "source": [
    "author_data.head()"
   ]
  },
  {
   "cell_type": "code",
   "execution_count": 32,
   "id": "d7a75e51",
   "metadata": {},
   "outputs": [],
   "source": [
    "author_data.columns"
   ]
  },
  {
   "cell_type": "code",
   "execution_count": 33,
   "id": "3389564b",
   "metadata": {},
   "outputs": [],
   "source": [
    "author_data.rename(\n",
    "    columns = {\n",
    "        \n",
    "        'author.properties.friends':'friends',\n",
    "        'author.properties.verified':'verified',\n",
    "        'properties.sentiment':'sentiment',\n",
    "        'location.longitude':'longitude',\n",
    "        'location.latitude':'latitude',\n",
    "        'author.properties.status_count':'status_count',\n",
    "        'location.country':'country',\n",
    "        'content.body':'tweet',\n",
    "        'properties.platform':'platform'\n",
    "        \n",
    "    }, inplace = True)\n"
   ]
  },
  {
   "cell_type": "code",
   "execution_count": 34,
   "id": "02a595e2",
   "metadata": {},
   "outputs": [],
   "source": [
    "author_data[\"sentiment\"].unique()"
   ]
  },
  {
   "cell_type": "code",
   "execution_count": 35,
   "id": "62316faa",
   "metadata": {},
   "outputs": [],
   "source": [
    "author_data.columns"
   ]
  },
  {
   "cell_type": "code",
   "execution_count": 36,
   "id": "e8b7ae67",
   "metadata": {},
   "outputs": [],
   "source": [
    "author_data.head()"
   ]
  },
  {
   "cell_type": "markdown",
   "id": "e91dae35",
   "metadata": {},
   "source": [
    "# Exploratory Data Analysis"
   ]
  },
  {
   "cell_type": "code",
   "execution_count": 37,
   "id": "888ef0bf",
   "metadata": {},
   "outputs": [],
   "source": [
    "sns.catplot(x='friends', y='status_count', data=author_data, height=8, aspect=12/8)"
   ]
  },
  {
   "cell_type": "code",
   "execution_count": 38,
   "id": "4383d0e2",
   "metadata": {},
   "outputs": [],
   "source": [
    "sns.heatmap(author_data.corr(), cbar = True, linewidths = 0.3)"
   ]
  },
  {
   "cell_type": "code",
   "execution_count": 39,
   "id": "3b18457e",
   "metadata": {},
   "outputs": [],
   "source": [
    "sns.barplot(data=author_data, y=\"longitude\", x = \"sentiment\")\n",
    "plt.show()"
   ]
  },
  {
   "cell_type": "code",
   "execution_count": 40,
   "id": "1073bbc1",
   "metadata": {},
   "outputs": [],
   "source": [
    "author_data.isnull().sum()"
   ]
  },
  {
   "cell_type": "code",
   "execution_count": 41,
   "id": "74caaaff",
   "metadata": {},
   "outputs": [],
   "source": [
    "author_data.info()"
   ]
  },
  {
   "cell_type": "code",
   "execution_count": 42,
   "id": "33ed786c",
   "metadata": {},
   "outputs": [],
   "source": [
    "# author_data[\"friends\"].value_counts().to_frame()"
   ]
  },
  {
   "cell_type": "code",
   "execution_count": 43,
   "id": "fa5ff494",
   "metadata": {},
   "outputs": [],
   "source": [
    "author_data[author_data[\"friends\"] == '|| TELL ME YOUR NAME! XD']"
   ]
  },
  {
   "cell_type": "code",
   "execution_count": 44,
   "id": "5939d92e",
   "metadata": {},
   "outputs": [],
   "source": [
    "author_data_new = author_data.dropna()"
   ]
  },
  {
   "cell_type": "code",
   "execution_count": 45,
   "id": "930e3e81",
   "metadata": {},
   "outputs": [],
   "source": [
    "author_data_new.info()"
   ]
  },
  {
   "cell_type": "code",
   "execution_count": 46,
   "id": "72bf15e8",
   "metadata": {},
   "outputs": [],
   "source": [
    "author_data_new.info()"
   ]
  },
  {
   "cell_type": "code",
   "execution_count": 47,
   "id": "eda63a69",
   "metadata": {},
   "outputs": [],
   "source": [
    "author_data_new.isnull().sum()"
   ]
  },
  {
   "cell_type": "code",
   "execution_count": 48,
   "id": "d275c61f",
   "metadata": {},
   "outputs": [],
   "source": [
    "author_data_new.head()"
   ]
  },
  {
   "cell_type": "code",
   "execution_count": 49,
   "id": "91b18ce7",
   "metadata": {},
   "outputs": [],
   "source": [
    "author_data_new[\"friends\"] = author_data_new[\"friends\"].astype(int)"
   ]
  },
  {
   "cell_type": "code",
   "execution_count": 50,
   "id": "615377fb",
   "metadata": {},
   "outputs": [],
   "source": [
    "sns.catplot(data=author_data_new, kind=\"bar\", x=\"verified\", y=\"friends\", hue=\"sentiment\")"
   ]
  },
  {
   "cell_type": "code",
   "execution_count": 51,
   "id": "5bf2b832",
   "metadata": {},
   "outputs": [],
   "source": [
    "# From GeoPandas, our world map data\n",
    "#worldmap = gpd.read_file(gpd.datasets.get_path(\"naturalearth_lowres\"))\n",
    "world = gpd.read_file(gpd.datasets.get_path('naturalearth_lowres'))\n",
    "\n",
    "# Creating axes and plotting world map\n",
    "#fig, ax = plt.subplots(figsize=(12, 6))\n",
    "#author_data.plot(color=\"lightgrey\", ax=ax)\n",
    "\n",
    "# Plotting our Impact Energy data with a color map\n",
    "x = author_data['longitude']\n",
    "y = author_data['status_count']\n",
    "#z = author_data['status_count']\n",
    "plt.scatter(x, y, s=20*z, c=z, alpha=0.6, vmin=0,cmap='autumn')\n",
    "#plt.scatter(x, y, s = 10, c = 'red', marker = 'o', alpha = 1, cmap='autumn')\n",
    "\n",
    "\n",
    "plt.colorbar(label='Peoples Status Count Based on location')\n",
    "\n",
    "# Creating axis limits and title\n",
    "#plt.xlim([-180, 180])\n",
    "#plt.ylim([-90, 90])\n",
    "\n",
    "plt.title(\"Author: Status Count Based on location\")\n",
    "plt.xlabel(\"Longitude\")\n",
    "plt.ylabel(\"Status count\")\n",
    "plt.show()"
   ]
  },
  {
   "cell_type": "code",
   "execution_count": null,
   "id": "296495a0",
   "metadata": {},
   "outputs": [],
   "source": [
    "#import matplotlib.pyplot as plt\n",
    "plt.scatter(x=author_data['longitude'], y=author_data['latitude'])\n",
    "plt.savefig(\"images/location.png\")\n",
    "plt.show()"
   ]
  },
  {
   "cell_type": "code",
   "execution_count": null,
   "id": "78cbf91d",
   "metadata": {},
   "outputs": [],
   "source": [
    "sns.catplot(data=author_data_new, kind=\"bar\", x=\"friends\", y=\"status_count\")\n",
    "plt.savefig(\"images/status of friends.png\")"
   ]
  },
  {
   "cell_type": "markdown",
   "id": "c79d28c1",
   "metadata": {},
   "source": [
    "# Modelling"
   ]
  },
  {
   "cell_type": "code",
   "execution_count": null,
   "id": "9b8170d1",
   "metadata": {},
   "outputs": [],
   "source": [
    "author_data_new.columns"
   ]
  },
  {
   "cell_type": "code",
   "execution_count": null,
   "id": "2d29b8f7",
   "metadata": {},
   "outputs": [],
   "source": [
    "author_data_new.shape"
   ]
  },
  {
   "cell_type": "code",
   "execution_count": null,
   "id": "b820a14e",
   "metadata": {},
   "outputs": [],
   "source": [
    "author_data_new.head()"
   ]
  },
  {
   "cell_type": "code",
   "execution_count": null,
   "id": "4f995085",
   "metadata": {},
   "outputs": [],
   "source": [
    "from sklearn.model_selection import train_test_split\n",
    "from autogluon.tabular import TabularDataset, TabularPredictor"
   ]
  },
  {
   "cell_type": "code",
   "execution_count": null,
   "id": "a79a39b9",
   "metadata": {},
   "outputs": [],
   "source": [
    "train_data, test_data = train_test_split(author_data_new, test_size=0.33, random_state=42)\n"
   ]
  },
  {
   "cell_type": "code",
   "execution_count": null,
   "id": "57322040",
   "metadata": {},
   "outputs": [],
   "source": [
    "train_data.shape, test_data.shape"
   ]
  },
  {
   "cell_type": "code",
   "execution_count": null,
   "id": "1a19a5f6",
   "metadata": {},
   "outputs": [],
   "source": [
    "train_data.head()"
   ]
  },
  {
   "cell_type": "code",
   "execution_count": null,
   "id": "f0c10761",
   "metadata": {},
   "outputs": [],
   "source": [
    "test_data.head()"
   ]
  },
  {
   "cell_type": "code",
   "execution_count": null,
   "id": "e1d6fe93",
   "metadata": {},
   "outputs": [],
   "source": [
    "%%time\n",
    "\n",
    "save_path = 'artefacts/models_regression'\n",
    "time_limit = 60\n",
    "TARGET = \"friends\"\n",
    "\n",
    "predictor = TabularPredictor(label=TARGET, path=save_path, problem_type=\"regression\").fit(train_data, time_limit=time_limit)"
   ]
  },
  {
   "cell_type": "code",
   "execution_count": null,
   "id": "f16b862d",
   "metadata": {},
   "outputs": [],
   "source": [
    "%%time\n",
    "\n",
    "save_path = 'artefacts/models_regression_statuscount'\n",
    "time_limit = 60\n",
    "TARGET = \"status_count\"\n",
    "\n",
    "predictor = TabularPredictor(label=TARGET, path=save_path, problem_type=\"regression\").fit(train_data, time_limit=time_limit)"
   ]
  },
  {
   "cell_type": "code",
   "execution_count": null,
   "id": "8d533bf3",
   "metadata": {},
   "outputs": [],
   "source": [
    "from autogluon.multimodal import MultiModalPredictor\n"
   ]
  },
  {
   "cell_type": "code",
   "execution_count": null,
   "id": "346d2b54",
   "metadata": {},
   "outputs": [],
   "source": [
    "predictor.fit_summary()"
   ]
  },
  {
   "cell_type": "code",
   "execution_count": null,
   "id": "fb62b5e5",
   "metadata": {},
   "outputs": [],
   "source": []
  }
 ],
 "metadata": {
  "kernelspec": {
   "display_name": "Python 3 (ipykernel)",
   "language": "python",
   "name": "python3"
  },
  "language_info": {
   "codemirror_mode": {
    "name": "ipython",
    "version": 3
   },
   "file_extension": ".py",
   "mimetype": "text/x-python",
   "name": "python",
   "nbconvert_exporter": "python",
   "pygments_lexer": "ipython3",
   "version": "3.8.16"
  }
 },
 "nbformat": 4,
 "nbformat_minor": 5
}
