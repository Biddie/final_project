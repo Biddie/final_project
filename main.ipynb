{
 "cells": [
  {
   "cell_type": "code",
   "execution_count": 26,
   "id": "26b035c0",
   "metadata": {},
   "outputs": [],
   "source": [
    "from parameters.parameters import file_path\n",
    "from data_ingestion.ingest import get_data\n",
    "import time"
   ]
  },
  {
   "cell_type": "code",
   "execution_count": 27,
   "id": "2007c559",
   "metadata": {},
   "outputs": [
    {
     "data": {
      "text/plain": [
       "'/Users/biddie/Projects/Datascience/finalproject/data/author_data_new.csv'"
      ]
     },
     "execution_count": 27,
     "metadata": {},
     "output_type": "execute_result"
    }
   ],
   "source": [
    "file_path"
   ]
  },
  {
   "cell_type": "code",
   "execution_count": 28,
   "id": "2b5d516a",
   "metadata": {},
   "outputs": [
    {
     "name": "stdout",
     "output_type": "stream",
     "text": [
      "Starting Data Ingestion\n",
      "Starting Authors Data...\n",
      "Execution time for Author Data Ingestion is 0.03677988052368164 seconds\n"
     ]
    },
    {
     "ename": "AttributeError",
     "evalue": "'NoneType' object has no attribute 'shape'",
     "output_type": "error",
     "traceback": [
      "\u001b[0;31m---------------------------------------------------------------------------\u001b[0m",
      "\u001b[0;31mAttributeError\u001b[0m                            Traceback (most recent call last)",
      "Cell \u001b[0;32mIn[28], line 8\u001b[0m\n\u001b[1;32m      6\u001b[0m end_time \u001b[38;5;241m=\u001b[39m time\u001b[38;5;241m.\u001b[39mtime()\n\u001b[1;32m      7\u001b[0m \u001b[38;5;28mprint\u001b[39m(\u001b[38;5;124mf\u001b[39m\u001b[38;5;124m\"\u001b[39m\u001b[38;5;124mExecution time for Author Data Ingestion is \u001b[39m\u001b[38;5;132;01m{\u001b[39;00mend_time\u001b[38;5;250m \u001b[39m\u001b[38;5;241m-\u001b[39m\u001b[38;5;250m \u001b[39mstart_time\u001b[38;5;132;01m}\u001b[39;00m\u001b[38;5;124m seconds\u001b[39m\u001b[38;5;124m\"\u001b[39m)\n\u001b[0;32m----> 8\u001b[0m \u001b[38;5;28mprint\u001b[39m(\u001b[38;5;124mf\u001b[39m\u001b[38;5;124m\"\u001b[39m\u001b[38;5;124mSize of Author Data is \u001b[39m\u001b[38;5;132;01m{\u001b[39;00mauthor_data_new\u001b[38;5;241m.\u001b[39mshape\u001b[38;5;132;01m}\u001b[39;00m\u001b[38;5;124m\"\u001b[39m)\n\u001b[1;32m      9\u001b[0m \u001b[38;5;28mprint\u001b[39m(author_data_new\u001b[38;5;241m.\u001b[39mhead())\n",
      "\u001b[0;31mAttributeError\u001b[0m: 'NoneType' object has no attribute 'shape'"
     ]
    }
   ],
   "source": [
    "# Stage 0 - Data Ingestion\n",
    "print(\"Starting Data Ingestion\")\n",
    "print(\"Starting Authors Data...\")\n",
    "start_time = time.time()\n",
    "author_data_new = get_data(file_path)\n",
    "end_time = time.time()\n",
    "print(f\"Execution time for Author Data Ingestion is {end_time - start_time} seconds\")\n",
    "print(f\"Size of Author Data is {author_data_new.shape}\")\n",
    "print(author_data_new.head())"
   ]
  },
  {
   "cell_type": "code",
   "execution_count": 29,
   "id": "09e1cf59",
   "metadata": {},
   "outputs": [],
   "source": [
    "import pandas as pd\n",
    "df = pd.read_csv('data/author_data_new.csv')"
   ]
  },
  {
   "cell_type": "code",
   "execution_count": 30,
   "id": "602e058e",
   "metadata": {},
   "outputs": [
    {
     "data": {
      "text/plain": [
       "(2998, 9)"
      ]
     },
     "execution_count": 30,
     "metadata": {},
     "output_type": "execute_result"
    }
   ],
   "source": [
    "df.shape"
   ]
  },
  {
   "cell_type": "code",
   "execution_count": 31,
   "id": "344e1a90",
   "metadata": {},
   "outputs": [
    {
     "data": {
      "text/plain": [
       "pandas.core.frame.DataFrame"
      ]
     },
     "execution_count": 31,
     "metadata": {},
     "output_type": "execute_result"
    }
   ],
   "source": [
    "type(df)"
   ]
  },
  {
   "cell_type": "code",
   "execution_count": 32,
   "id": "bda975d8",
   "metadata": {},
   "outputs": [
    {
     "data": {
      "text/html": [
       "<div>\n",
       "<style scoped>\n",
       "    .dataframe tbody tr th:only-of-type {\n",
       "        vertical-align: middle;\n",
       "    }\n",
       "\n",
       "    .dataframe tbody tr th {\n",
       "        vertical-align: top;\n",
       "    }\n",
       "\n",
       "    .dataframe thead th {\n",
       "        text-align: right;\n",
       "    }\n",
       "</style>\n",
       "<table border=\"1\" class=\"dataframe\">\n",
       "  <thead>\n",
       "    <tr style=\"text-align: right;\">\n",
       "      <th></th>\n",
       "      <th>friends</th>\n",
       "      <th>verified</th>\n",
       "      <th>longitude</th>\n",
       "      <th>status_count</th>\n",
       "      <th>sentiment</th>\n",
       "      <th>latitude</th>\n",
       "      <th>country</th>\n",
       "      <th>tweet</th>\n",
       "      <th>platform</th>\n",
       "    </tr>\n",
       "  </thead>\n",
       "  <tbody>\n",
       "    <tr>\n",
       "      <th>0</th>\n",
       "      <td>632</td>\n",
       "      <td>False</td>\n",
       "      <td>-2.320057</td>\n",
       "      <td>106490.0</td>\n",
       "      <td>0.0</td>\n",
       "      <td>52.119377</td>\n",
       "      <td>GB</td>\n",
       "      <td>@moel_bryn https://t.co/qvz1bI2Utb</td>\n",
       "      <td>twitter</td>\n",
       "    </tr>\n",
       "    <tr>\n",
       "      <th>1</th>\n",
       "      <td>278</td>\n",
       "      <td>False</td>\n",
       "      <td>-0.337062</td>\n",
       "      <td>31467.0</td>\n",
       "      <td>-1.0</td>\n",
       "      <td>51.595852</td>\n",
       "      <td>GB</td>\n",
       "      <td>Who wants to rap battle with me on stream tomo...</td>\n",
       "      <td>twitter</td>\n",
       "    </tr>\n",
       "    <tr>\n",
       "      <th>2</th>\n",
       "      <td>169</td>\n",
       "      <td>False</td>\n",
       "      <td>-0.278464</td>\n",
       "      <td>1185.0</td>\n",
       "      <td>-1.0</td>\n",
       "      <td>51.390071</td>\n",
       "      <td>GB</td>\n",
       "      <td>i think she'd Understand but there's like Noth...</td>\n",
       "      <td>twitter</td>\n",
       "    </tr>\n",
       "    <tr>\n",
       "      <th>3</th>\n",
       "      <td>195</td>\n",
       "      <td>False</td>\n",
       "      <td>0.026299</td>\n",
       "      <td>2742.0</td>\n",
       "      <td>-1.0</td>\n",
       "      <td>51.394369</td>\n",
       "      <td>GB</td>\n",
       "      <td>@SoccerSix #SoccerSixNashGrier pleassssssseeee...</td>\n",
       "      <td>twitter</td>\n",
       "    </tr>\n",
       "    <tr>\n",
       "      <th>4</th>\n",
       "      <td>572</td>\n",
       "      <td>False</td>\n",
       "      <td>-0.092633</td>\n",
       "      <td>18332.0</td>\n",
       "      <td>0.0</td>\n",
       "      <td>51.358951</td>\n",
       "      <td>GB</td>\n",
       "      <td>@GraceLazard 💖</td>\n",
       "      <td>twitter</td>\n",
       "    </tr>\n",
       "  </tbody>\n",
       "</table>\n",
       "</div>"
      ],
      "text/plain": [
       "   friends  verified  longitude  status_count  sentiment   latitude country  \\\n",
       "0      632     False  -2.320057      106490.0        0.0  52.119377      GB   \n",
       "1      278     False  -0.337062       31467.0       -1.0  51.595852      GB   \n",
       "2      169     False  -0.278464        1185.0       -1.0  51.390071      GB   \n",
       "3      195     False   0.026299        2742.0       -1.0  51.394369      GB   \n",
       "4      572     False  -0.092633       18332.0        0.0  51.358951      GB   \n",
       "\n",
       "                                               tweet platform  \n",
       "0                 @moel_bryn https://t.co/qvz1bI2Utb  twitter  \n",
       "1  Who wants to rap battle with me on stream tomo...  twitter  \n",
       "2  i think she'd Understand but there's like Noth...  twitter  \n",
       "3  @SoccerSix #SoccerSixNashGrier pleassssssseeee...  twitter  \n",
       "4                                     @GraceLazard 💖  twitter  "
      ]
     },
     "execution_count": 32,
     "metadata": {},
     "output_type": "execute_result"
    }
   ],
   "source": [
    "df.head()"
   ]
  },
  {
   "cell_type": "code",
   "execution_count": null,
   "id": "bc524d6a",
   "metadata": {},
   "outputs": [],
   "source": []
  }
 ],
 "metadata": {
  "kernelspec": {
   "display_name": "Python 3 (ipykernel)",
   "language": "python",
   "name": "python3"
  },
  "language_info": {
   "codemirror_mode": {
    "name": "ipython",
    "version": 3
   },
   "file_extension": ".py",
   "mimetype": "text/x-python",
   "name": "python",
   "nbconvert_exporter": "python",
   "pygments_lexer": "ipython3",
   "version": "3.8.16"
  }
 },
 "nbformat": 4,
 "nbformat_minor": 5
}
